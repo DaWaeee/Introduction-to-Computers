{
  "nbformat": 4,
  "nbformat_minor": 0,
  "metadata": {
    "colab": {
      "name": "0525.ipynb",
      "provenance": [],
      "authorship_tag": "ABX9TyNrvpvboPdM/1HPuMEX5J2n",
      "include_colab_link": true
    },
    "kernelspec": {
      "name": "python3",
      "display_name": "Python 3"
    },
    "language_info": {
      "name": "python"
    }
  },
  "cells": [
    {
      "cell_type": "markdown",
      "metadata": {
        "id": "view-in-github",
        "colab_type": "text"
      },
      "source": [
        "<a href=\"https://colab.research.google.com/github/DaWaeee/Introduction-to-Computers/blob/main/0525.ipynb\" target=\"_parent\"><img src=\"https://colab.research.google.com/assets/colab-badge.svg\" alt=\"Open In Colab\"/></a>"
      ]
    },
    {
      "cell_type": "code",
      "execution_count": 7,
      "metadata": {
        "colab": {
          "base_uri": "https://localhost:8080/"
        },
        "id": "pOdNZusjj1-9",
        "outputId": "a52b6992-bb73-43e7-f3cd-adb483469452"
      },
      "outputs": [
        {
          "output_type": "stream",
          "name": "stdout",
          "text": [
            "請輸入一個正整數50\n",
            "1到 50 的整數和為 1275\n"
          ]
        }
      ],
      "source": [
        "sum=0\n",
        "test=int(input('請輸入一個正整數'))\n",
        "for n in range(1,test+1):\n",
        "  sum=sum+n\n",
        "print('1到',test,'的整數和為',sum)"
      ]
    },
    {
      "cell_type": "code",
      "source": [
        "sum=0\n",
        "test=int(input('請輸入一個正整數:'))\n",
        "for m in range(1,test+1):\n",
        "  sum=sum+m\n",
        "  print('1到'+str(m)+'的整數和為:',sum)"
      ],
      "metadata": {
        "colab": {
          "base_uri": "https://localhost:8080/"
        },
        "id": "ypjRFKUzmZbZ",
        "outputId": "5ea85428-915e-4662-959c-188ff2ade93b"
      },
      "execution_count": 10,
      "outputs": [
        {
          "output_type": "stream",
          "name": "stdout",
          "text": [
            "請輸入一個正整數:50\n",
            "1到1的整數和為: 1\n",
            "1到2的整數和為: 3\n",
            "1到3的整數和為: 6\n",
            "1到4的整數和為: 10\n",
            "1到5的整數和為: 15\n",
            "1到6的整數和為: 21\n",
            "1到7的整數和為: 28\n",
            "1到8的整數和為: 36\n",
            "1到9的整數和為: 45\n",
            "1到10的整數和為: 55\n",
            "1到11的整數和為: 66\n",
            "1到12的整數和為: 78\n",
            "1到13的整數和為: 91\n",
            "1到14的整數和為: 105\n",
            "1到15的整數和為: 120\n",
            "1到16的整數和為: 136\n",
            "1到17的整數和為: 153\n",
            "1到18的整數和為: 171\n",
            "1到19的整數和為: 190\n",
            "1到20的整數和為: 210\n",
            "1到21的整數和為: 231\n",
            "1到22的整數和為: 253\n",
            "1到23的整數和為: 276\n",
            "1到24的整數和為: 300\n",
            "1到25的整數和為: 325\n",
            "1到26的整數和為: 351\n",
            "1到27的整數和為: 378\n",
            "1到28的整數和為: 406\n",
            "1到29的整數和為: 435\n",
            "1到30的整數和為: 465\n",
            "1到31的整數和為: 496\n",
            "1到32的整數和為: 528\n",
            "1到33的整數和為: 561\n",
            "1到34的整數和為: 595\n",
            "1到35的整數和為: 630\n",
            "1到36的整數和為: 666\n",
            "1到37的整數和為: 703\n",
            "1到38的整數和為: 741\n",
            "1到39的整數和為: 780\n",
            "1到40的整數和為: 820\n",
            "1到41的整數和為: 861\n",
            "1到42的整數和為: 903\n",
            "1到43的整數和為: 946\n",
            "1到44的整數和為: 990\n",
            "1到45的整數和為: 1035\n",
            "1到46的整數和為: 1081\n",
            "1到47的整數和為: 1128\n",
            "1到48的整數和為: 1176\n",
            "1到49的整數和為: 1225\n",
            "1到50的整數和為: 1275\n"
          ]
        }
      ]
    },
    {
      "cell_type": "code",
      "source": [
        "for j in range(1,5):\n",
        "  print(j)\n",
        "  for i in range(1,3):\n",
        "    k=i*j\n",
        "    print(j,'*',i,'=',k)"
      ],
      "metadata": {
        "colab": {
          "base_uri": "https://localhost:8080/"
        },
        "id": "_79mtKaxmmaE",
        "outputId": "6760bf0d-fe02-4805-c452-ac2b70809688"
      },
      "execution_count": 6,
      "outputs": [
        {
          "output_type": "stream",
          "name": "stdout",
          "text": [
            "1\n",
            "1 * 1 = 1\n",
            "1 * 2 = 2\n",
            "2\n",
            "2 * 1 = 2\n",
            "2 * 2 = 4\n",
            "3\n",
            "3 * 1 = 3\n",
            "3 * 2 = 6\n",
            "4\n",
            "4 * 1 = 4\n",
            "4 * 2 = 8\n"
          ]
        }
      ]
    },
    {
      "cell_type": "code",
      "source": [
        "count=0\n",
        "for string in 'hello!':\n",
        "  count+=1\n",
        "  if string=='o':\n",
        "    break\n",
        "  print(string)\n",
        "print('迴圈結束')\n",
        "print('迴圈執行了 %d次' %count)"
      ],
      "metadata": {
        "colab": {
          "base_uri": "https://localhost:8080/"
        },
        "id": "p8g4o56tnQE6",
        "outputId": "c16a8857-0d17-4ccf-cd74-2105f746c2f1"
      },
      "execution_count": 11,
      "outputs": [
        {
          "output_type": "stream",
          "name": "stdout",
          "text": [
            "1\n",
            "1 * 1 = 1\n",
            "1 * 2 = 2\n",
            "2\n",
            "2 * 1 = 2\n",
            "2 * 2 = 4\n",
            "3\n",
            "3 * 1 = 3\n",
            "3 * 2 = 6\n",
            "4\n",
            "4 * 1 = 4\n",
            "4 * 2 = 8\n",
            "5\n",
            "5 * 1 = 5\n",
            "5 * 2 = 10\n"
          ]
        }
      ]
    },
    {
      "cell_type": "code",
      "source": [
        "for i in range(1,5):\n",
        "  if(i==4):\n",
        "     break\n",
        "  print(i,end=' ')"
      ],
      "metadata": {
        "colab": {
          "base_uri": "https://localhost:8080/"
        },
        "id": "6-Q0vp1-oTZ9",
        "outputId": "7d061920-0f2e-4783-f85d-01053fccbb1c"
      },
      "execution_count": 12,
      "outputs": [
        {
          "output_type": "stream",
          "name": "stdout",
          "text": [
            "1 2 3 "
          ]
        }
      ]
    },
    {
      "cell_type": "code",
      "source": [
        "count = 0\n",
        "for string in 'hellol':\n",
        "  count+=1\n",
        "  if string == 'o':\n",
        "    break\n",
        "  print(string)\n",
        "print('迴圈結束')\n",
        "print('迴圈執行了 %d 次'%count)"
      ],
      "metadata": {
        "colab": {
          "base_uri": "https://localhost:8080/"
        },
        "id": "j-e6XvQ-pdfJ",
        "outputId": "de1e20cc-7b2f-41ec-eb94-bb9cbe2c29ba"
      },
      "execution_count": 18,
      "outputs": [
        {
          "output_type": "stream",
          "name": "stdout",
          "text": [
            "h\n",
            "e\n",
            "l\n",
            "l\n",
            "迴圈結束\n",
            "迴圈執行了 5 次\n"
          ]
        }
      ]
    },
    {
      "cell_type": "code",
      "source": [
        "count=0\n",
        "for string in '測試看看!':\n",
        "  count+=1\n",
        "  if string=='看':\n",
        "    break\n",
        "  print(string)\n",
        "print('迴圈結束')\n",
        "print('迴圈執行了 %d次' %count)"
      ],
      "metadata": {
        "colab": {
          "base_uri": "https://localhost:8080/"
        },
        "id": "GYOu_3SNq67e",
        "outputId": "853b9cb2-9059-447b-db78-084c234a9dfb"
      },
      "execution_count": 16,
      "outputs": [
        {
          "output_type": "stream",
          "name": "stdout",
          "text": [
            "測\n",
            "試\n",
            "迴圈結束\n",
            "迴圈執行了 3次\n"
          ]
        }
      ]
    },
    {
      "cell_type": "code",
      "source": [
        "for j in range(2,10):\n",
        " for i in range(1,10):\n",
        "    k=i*j\n",
        "    if(k<10):\n",
        "     print(j,'*',i,'=',k,end=' ')\n",
        "    else:\n",
        "      print(j,'*',i,'=',k,end=' ')\n",
        " print()"
      ],
      "metadata": {
        "colab": {
          "base_uri": "https://localhost:8080/"
        },
        "id": "VzfGBilvt2-d",
        "outputId": "a1f32813-bd2f-4b62-8b24-7b92d3812bc6"
      },
      "execution_count": 24,
      "outputs": [
        {
          "output_type": "stream",
          "name": "stdout",
          "text": [
            "2 * 1 = 2 2 * 2 = 4 2 * 3 = 6 2 * 4 = 8 2 * 5 = 10 2 * 6 = 12 2 * 7 = 14 2 * 8 = 16 2 * 9 = 18 \n",
            "3 * 1 = 3 3 * 2 = 6 3 * 3 = 9 3 * 4 = 12 3 * 5 = 15 3 * 6 = 18 3 * 7 = 21 3 * 8 = 24 3 * 9 = 27 \n",
            "4 * 1 = 4 4 * 2 = 8 4 * 3 = 12 4 * 4 = 16 4 * 5 = 20 4 * 6 = 24 4 * 7 = 28 4 * 8 = 32 4 * 9 = 36 \n",
            "5 * 1 = 5 5 * 2 = 10 5 * 3 = 15 5 * 4 = 20 5 * 5 = 25 5 * 6 = 30 5 * 7 = 35 5 * 8 = 40 5 * 9 = 45 \n",
            "6 * 1 = 6 6 * 2 = 12 6 * 3 = 18 6 * 4 = 24 6 * 5 = 30 6 * 6 = 36 6 * 7 = 42 6 * 8 = 48 6 * 9 = 54 \n",
            "7 * 1 = 7 7 * 2 = 14 7 * 3 = 21 7 * 4 = 28 7 * 5 = 35 7 * 6 = 42 7 * 7 = 49 7 * 8 = 56 7 * 9 = 63 \n",
            "8 * 1 = 8 8 * 2 = 16 8 * 3 = 24 8 * 4 = 32 8 * 5 = 40 8 * 6 = 48 8 * 7 = 56 8 * 8 = 64 8 * 9 = 72 \n",
            "9 * 1 = 9 9 * 2 = 18 9 * 3 = 27 9 * 4 = 36 9 * 5 = 45 9 * 6 = 54 9 * 7 = 63 9 * 8 = 72 9 * 9 = 81 \n"
          ]
        }
      ]
    },
    {
      "cell_type": "code",
      "source": [
        "a=int(input('請輸入a的值:'))\n",
        "b=int(input('請輸入b的值:'))\n",
        "\n",
        "for i in range(1,(a*b)+1):\n",
        "  if(i%a==0 and i%b==0):\n",
        "    break\n",
        "print(a,'和',b,'的最小公倍數=',i)\n",
        "\n"
      ],
      "metadata": {
        "colab": {
          "base_uri": "https://localhost:8080/"
        },
        "id": "EkitUqho-kHL",
        "outputId": "72b63b05-3bc5-44ec-e079-ca21186dbcbc"
      },
      "execution_count": 25,
      "outputs": [
        {
          "output_type": "stream",
          "name": "stdout",
          "text": [
            "請輸入a的值:4\n",
            "請輸入b的值:6\n",
            "4 和 6 的最小公倍數= 12\n"
          ]
        }
      ]
    },
    {
      "cell_type": "code",
      "source": [
        "a=int(input('請輸入正整數:'))\n",
        "for i in range(1,a+1):\n",
        "  if(i%5==0):\n",
        "    continue\n",
        "  print(i,end=' ')"
      ],
      "metadata": {
        "colab": {
          "base_uri": "https://localhost:8080/"
        },
        "id": "FdpaIZpBsULk",
        "outputId": "0b458c40-d160-4d81-9596-20faa9259ce3"
      },
      "execution_count": 32,
      "outputs": [
        {
          "output_type": "stream",
          "name": "stdout",
          "text": [
            "請輸入正整數:12\n",
            "1 2 3 4 6 7 8 9 11 12 "
          ]
        }
      ]
    },
    {
      "cell_type": "code",
      "source": [
        ""
      ],
      "metadata": {
        "id": "_fWbbNnjAlvx"
      },
      "execution_count": null,
      "outputs": []
    }
  ]
}