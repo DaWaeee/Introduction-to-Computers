{
  "nbformat": 4,
  "nbformat_minor": 0,
  "metadata": {
    "colab": {
      "name": "0511.ipynb",
      "provenance": [],
      "authorship_tag": "ABX9TyMjSxzoLlpYQDqJCQlNydHS",
      "include_colab_link": true
    },
    "kernelspec": {
      "name": "python3",
      "display_name": "Python 3"
    },
    "language_info": {
      "name": "python"
    }
  },
  "cells": [
    {
      "cell_type": "markdown",
      "metadata": {
        "id": "view-in-github",
        "colab_type": "text"
      },
      "source": [
        "<a href=\"https://colab.research.google.com/github/DaWaeee/Introduction-to-Computers/blob/main/0511.ipynb\" target=\"_parent\"><img src=\"https://colab.research.google.com/assets/colab-badge.svg\" alt=\"Open In Colab\"/></a>"
      ]
    },
    {
      "cell_type": "code",
      "execution_count": 1,
      "metadata": {
        "colab": {
          "base_uri": "https://localhost:8080/"
        },
        "id": "9UwGwUTeg1TD",
        "outputId": "8b6983a8-b394-48a8-c708-58dc857dc5c7"
      },
      "outputs": [
        {
          "output_type": "stream",
          "name": "stdout",
          "text": [
            "請輸入你的體溫37.5\n",
            "體溫過高! \n"
          ]
        }
      ],
      "source": [
        "temp=float(input('請輸入你的體溫'))\n",
        "if temp>= 37.5:\n",
        "   print('體溫過高! ')\n",
        "elif temp> 37 and temp<= 37.4:\n",
        "  print('體溫略高!')\n",
        "elif temp> 34 and temp<= 36.9:\n",
        "  print('體溫正常! ')\n",
        "else:\n",
        "  print('體溫異常,請重新量測! ')"
      ]
    },
    {
      "cell_type": "code",
      "source": [
        "money=int(input('請輸入購物金額: '))\n",
        "if (money>= 10000):\n",
        "  if(money>= 100000):\n",
        "    print('八折',money*0.8, end='元\\n')\n",
        "  elif(money >= 50000):\n",
        "    print('八五折',money*0.85, end='元\\n')\n",
        "  elif(money >= 30000):\n",
        "    print('九折',money*0.9, end='元\\n')\n",
        "  else:\n",
        "    print('九五折',money*0.95, end='元\\n')    \n",
        "else:\n",
        "  print('沒打折',money, end='元\\n')"
      ],
      "metadata": {
        "colab": {
          "base_uri": "https://localhost:8080/"
        },
        "id": "nPfT_Ahrknu0",
        "outputId": "b58a56b6-a962-432a-8620-bbfb3441da19"
      },
      "execution_count": 2,
      "outputs": [
        {
          "output_type": "stream",
          "name": "stdout",
          "text": [
            "請輸入購物金額: 50000\n",
            "八五折 42500.0元\n"
          ]
        }
      ]
    },
    {
      "cell_type": "code",
      "source": [
        "score=int(input('請輸入成績'))\n",
        "if score>=90:\n",
        "    print('A')\n",
        "elif score>=80 and score<89:\n",
        "    print('B')\n",
        "elif socre>=70 and score<79: \n",
        "    print('C')\n",
        "elif socre>=60 and score<69:\n",
        "    print('D')\n",
        "else:\n",
        "   print('E')\n"
      ],
      "metadata": {
        "colab": {
          "base_uri": "https://localhost:8080/"
        },
        "id": "eulNjZc8pLT_",
        "outputId": "5329816b-a4a4-418f-e7e4-f48aca788b97"
      },
      "execution_count": 10,
      "outputs": [
        {
          "output_type": "stream",
          "name": "stdout",
          "text": [
            "請輸入成績88\n",
            "B\n"
          ]
        }
      ]
    },
    {
      "cell_type": "code",
      "source": [
        "x=int(input('請輸入月份'))\n",
        "if x==3 or x==4 or x==5:\n",
        "  print(x,'月是春天!')\n",
        "elif x==6 or x==7 or x==8:\n",
        "  print(x,'月是夏天!')\n",
        "elif x==9 or x==10 or x==11:\n",
        "  print(x,'月是秋天!')\n",
        "elif x==12 or x==13 or x==14:\n",
        "  print(x,'月是冬天!')\n",
        "else:\n",
        "  print('月份不在範圍內!')"
      ],
      "metadata": {
        "colab": {
          "base_uri": "https://localhost:8080/"
        },
        "id": "PXHGEziRwBI1",
        "outputId": "cde7491c-9373-4345-ae59-2c6fe396352a"
      },
      "execution_count": 13,
      "outputs": [
        {
          "output_type": "stream",
          "name": "stdout",
          "text": [
            "請輸入月份5\n",
            "5 月是春天!\n"
          ]
        }
      ]
    },
    {
      "cell_type": "code",
      "source": [
        "income=int(input('請輸入今年收入淨額'))\n",
        "if income>=2000000:\n",
        " print('賦稅金額:',income*0.3,end='元\\n')\n",
        "elif income>=1000000 and income<2000000:\n",
        " print('賦稅金額:',income*0.21,end='元\\n')\n",
        "elif income>=600000 and income<1000000:\n",
        " print('賦稅金額:',income*0.13,end='元\\n')\n",
        "elif income>=300000 and income<600000:\n",
        " print('賦稅金額:',income*0.06,end='元\\n')\n",
        "else:\n",
        "  print('賦稅金額:0元')"
      ],
      "metadata": {
        "colab": {
          "base_uri": "https://localhost:8080/"
        },
        "id": "kglcdtwCyRHs",
        "outputId": "f9b6da40-d25c-422f-b500-98e96444fbf4"
      },
      "execution_count": 17,
      "outputs": [
        {
          "output_type": "stream",
          "name": "stdout",
          "text": [
            "請輸入今年收入淨額200000\n",
            "賦稅金額:0元\n"
          ]
        }
      ]
    },
    {
      "cell_type": "code",
      "source": [
        ""
      ],
      "metadata": {
        "id": "U1linwQ60tuC"
      },
      "execution_count": null,
      "outputs": []
    }
  ]
}